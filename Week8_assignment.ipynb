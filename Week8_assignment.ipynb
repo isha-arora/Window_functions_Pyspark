{
 "cells": [
  {
   "cell_type": "code",
   "execution_count": 132,
   "id": "c3f6f07f",
   "metadata": {},
   "outputs": [],
   "source": [
    "from pyspark.sql import SparkSession\n",
    "import getpass\n",
    "username = getpass.getuser()\n",
    "spark = SparkSession. \\\n",
    "builder. \\\n",
    "config('spark.ui.port','0'). \\\n",
    "config(\"spark.sql.warehouse.dir\", f\"/user/itv008012/warehouse\"). \\\n",
    "enableHiveSupport(). \\\n",
    "master('yarn'). \\\n",
    "getOrCreate()"
   ]
  },
  {
   "cell_type": "code",
   "execution_count": 133,
   "id": "f6b300d2",
   "metadata": {},
   "outputs": [
    {
     "data": {
      "text/html": [
       "\n",
       "            <div>\n",
       "                <p><b>SparkSession - hive</b></p>\n",
       "                \n",
       "        <div>\n",
       "            <p><b>SparkContext</b></p>\n",
       "\n",
       "            <p><a href=\"http://g01.itversity.com:38035\">Spark UI</a></p>\n",
       "\n",
       "            <dl>\n",
       "              <dt>Version</dt>\n",
       "                <dd><code>v2.4.7</code></dd>\n",
       "              <dt>Master</dt>\n",
       "                <dd><code>yarn</code></dd>\n",
       "              <dt>AppName</dt>\n",
       "                <dd><code>pyspark-shell</code></dd>\n",
       "            </dl>\n",
       "        </div>\n",
       "        \n",
       "            </div>\n",
       "        "
      ],
      "text/plain": [
       "<pyspark.sql.session.SparkSession at 0x7f645096b588>"
      ]
     },
     "execution_count": 133,
     "metadata": {},
     "output_type": "execute_result"
    }
   ],
   "source": [
    "spark"
   ]
  },
  {
   "cell_type": "code",
   "execution_count": 134,
   "id": "1ac721cd",
   "metadata": {},
   "outputs": [],
   "source": [
    "from pyspark.sql.functions import *"
   ]
  },
  {
   "cell_type": "code",
   "execution_count": 135,
   "id": "3a5f7e2d",
   "metadata": {},
   "outputs": [],
   "source": [
    "hotel_schema = 'booking_id integer, guest_name string, checkin_date date, checkout_date date, type_of_room string, total_rent float'"
   ]
  },
  {
   "cell_type": "code",
   "execution_count": 136,
   "id": "a1a0798f",
   "metadata": {},
   "outputs": [],
   "source": [
    "hotels_df = spark.read \\\n",
    ".format(\"csv\") \\\n",
    ".option(\"header\", \"false\") \\\n",
    ".schema(hotel_schema) \\\n",
    ".load(\"/public/trendytech/datasets/hotel_data.csv\")"
   ]
  },
  {
   "cell_type": "code",
   "execution_count": 137,
   "id": "b830a595",
   "metadata": {},
   "outputs": [
    {
     "data": {
      "text/html": [
       "<table border='1'>\n",
       "<tr><th>booking_id</th><th>guest_name</th><th>checkin_date</th><th>checkout_date</th><th>type_of_room</th><th>total_rent</th></tr>\n",
       "<tr><td>1</td><td>John Doe</td><td>2023-05-01</td><td>2023-05-05</td><td>Standard</td><td>400.0</td></tr>\n",
       "<tr><td>2</td><td>Jane Smith</td><td>2023-05-02</td><td>2023-05-06</td><td>Deluxe</td><td>600.0</td></tr>\n",
       "<tr><td>3</td><td>Mark Johnson</td><td>2023-05-03</td><td>2023-05-08</td><td>Standard</td><td>450.0</td></tr>\n",
       "<tr><td>4</td><td>Sarah Wilson</td><td>2023-05-04</td><td>2023-05-07</td><td>Executive</td><td>750.0</td></tr>\n",
       "<tr><td>5</td><td>Emily Brown</td><td>2023-05-06</td><td>2023-05-09</td><td>Deluxe</td><td>550.0</td></tr>\n",
       "<tr><td>6</td><td>Michael Davis</td><td>2023-05-07</td><td>2023-05-10</td><td>Standard</td><td>400.0</td></tr>\n",
       "<tr><td>7</td><td>Samantha Thompson</td><td>2023-05-08</td><td>2023-05-12</td><td>Deluxe</td><td>600.0</td></tr>\n",
       "<tr><td>8</td><td>William Lee</td><td>2023-05-10</td><td>2023-05-13</td><td>Standard</td><td>450.0</td></tr>\n",
       "<tr><td>9</td><td>Amanda Harris</td><td>2023-05-11</td><td>2023-05-16</td><td>Executive</td><td>750.0</td></tr>\n",
       "<tr><td>10</td><td>David Rodriguez</td><td>2023-05-12</td><td>2023-05-15</td><td>Deluxe</td><td>550.0</td></tr>\n",
       "<tr><td>11</td><td>Linda Wilson</td><td>2023-05-14</td><td>2023-05-18</td><td>Standard</td><td>400.0</td></tr>\n",
       "<tr><td>12</td><td>Robert Johnson</td><td>2023-05-15</td><td>2023-05-20</td><td>Deluxe</td><td>600.0</td></tr>\n",
       "<tr><td>13</td><td>Sophia Anderson</td><td>2023-05-16</td><td>2023-05-21</td><td>Standard</td><td>450.0</td></tr>\n",
       "<tr><td>14</td><td>James Smith</td><td>2023-05-17</td><td>2023-05-23</td><td>Executive</td><td>750.0</td></tr>\n",
       "<tr><td>15</td><td>Olivia Brown</td><td>2023-05-19</td><td>2023-05-24</td><td>Deluxe</td><td>550.0</td></tr>\n",
       "<tr><td>16</td><td>Michael Davis</td><td>2023-05-20</td><td>2023-05-25</td><td>Standard</td><td>400.0</td></tr>\n",
       "<tr><td>17</td><td>Emily Thompson</td><td>2023-05-21</td><td>2023-05-27</td><td>Deluxe</td><td>600.0</td></tr>\n",
       "<tr><td>18</td><td>William Lee</td><td>2023-05-23</td><td>2023-05-28</td><td>Standard</td><td>450.0</td></tr>\n",
       "<tr><td>19</td><td>Ava Harris</td><td>2023-05-24</td><td>2023-05-30</td><td>Executive</td><td>750.0</td></tr>\n",
       "<tr><td>20</td><td>Daniel Rodriguez</td><td>2023-05-25</td><td>2023-05-29</td><td>Deluxe</td><td>550.0</td></tr>\n",
       "</table>\n",
       "only showing top 20 rows\n"
      ],
      "text/plain": [
       "+----------+-----------------+------------+-------------+------------+----------+\n",
       "|booking_id|       guest_name|checkin_date|checkout_date|type_of_room|total_rent|\n",
       "+----------+-----------------+------------+-------------+------------+----------+\n",
       "|         1|         John Doe|  2023-05-01|   2023-05-05|    Standard|     400.0|\n",
       "|         2|       Jane Smith|  2023-05-02|   2023-05-06|      Deluxe|     600.0|\n",
       "|         3|     Mark Johnson|  2023-05-03|   2023-05-08|    Standard|     450.0|\n",
       "|         4|     Sarah Wilson|  2023-05-04|   2023-05-07|   Executive|     750.0|\n",
       "|         5|      Emily Brown|  2023-05-06|   2023-05-09|      Deluxe|     550.0|\n",
       "|         6|    Michael Davis|  2023-05-07|   2023-05-10|    Standard|     400.0|\n",
       "|         7|Samantha Thompson|  2023-05-08|   2023-05-12|      Deluxe|     600.0|\n",
       "|         8|      William Lee|  2023-05-10|   2023-05-13|    Standard|     450.0|\n",
       "|         9|    Amanda Harris|  2023-05-11|   2023-05-16|   Executive|     750.0|\n",
       "|        10|  David Rodriguez|  2023-05-12|   2023-05-15|      Deluxe|     550.0|\n",
       "|        11|     Linda Wilson|  2023-05-14|   2023-05-18|    Standard|     400.0|\n",
       "|        12|   Robert Johnson|  2023-05-15|   2023-05-20|      Deluxe|     600.0|\n",
       "|        13|  Sophia Anderson|  2023-05-16|   2023-05-21|    Standard|     450.0|\n",
       "|        14|      James Smith|  2023-05-17|   2023-05-23|   Executive|     750.0|\n",
       "|        15|     Olivia Brown|  2023-05-19|   2023-05-24|      Deluxe|     550.0|\n",
       "|        16|    Michael Davis|  2023-05-20|   2023-05-25|    Standard|     400.0|\n",
       "|        17|   Emily Thompson|  2023-05-21|   2023-05-27|      Deluxe|     600.0|\n",
       "|        18|      William Lee|  2023-05-23|   2023-05-28|    Standard|     450.0|\n",
       "|        19|       Ava Harris|  2023-05-24|   2023-05-30|   Executive|     750.0|\n",
       "|        20| Daniel Rodriguez|  2023-05-25|   2023-05-29|      Deluxe|     550.0|\n",
       "+----------+-----------------+------------+-------------+------------+----------+\n",
       "only showing top 20 rows"
      ]
     },
     "execution_count": 137,
     "metadata": {},
     "output_type": "execute_result"
    }
   ],
   "source": [
    "hotels_df"
   ]
  },
  {
   "cell_type": "code",
   "execution_count": 138,
   "id": "51c1a872",
   "metadata": {},
   "outputs": [
    {
     "name": "stdout",
     "output_type": "stream",
     "text": [
      "root\n",
      " |-- booking_id: integer (nullable = true)\n",
      " |-- guest_name: string (nullable = true)\n",
      " |-- checkin_date: date (nullable = true)\n",
      " |-- checkout_date: date (nullable = true)\n",
      " |-- type_of_room: string (nullable = true)\n",
      " |-- total_rent: float (nullable = true)\n",
      "\n"
     ]
    }
   ],
   "source": [
    "hotels_df.printSchema()"
   ]
  },
  {
   "cell_type": "code",
   "execution_count": 139,
   "id": "d9668a55",
   "metadata": {},
   "outputs": [],
   "source": [
    "hotel_new_df = hotels_df.select(count(\"*\").alias(\"row_count\"),countDistinct(\"guest_name\").alias(\"Distinct_customers\"),avg(\"total_rent\").alias(\"Average_Rent\"))"
   ]
  },
  {
   "cell_type": "code",
   "execution_count": 140,
   "id": "fdef0e89",
   "metadata": {},
   "outputs": [
    {
     "data": {
      "text/html": [
       "<table border='1'>\n",
       "<tr><th>row_count</th><th>Distinct_customers</th><th>Average_Rent</th></tr>\n",
       "<tr><td>107</td><td>23</td><td>546.2616822429907</td></tr>\n",
       "</table>\n"
      ],
      "text/plain": [
       "+---------+------------------+-----------------+\n",
       "|row_count|Distinct_customers|     Average_Rent|\n",
       "+---------+------------------+-----------------+\n",
       "|      107|                23|546.2616822429907|\n",
       "+---------+------------------+-----------------+"
      ]
     },
     "execution_count": 140,
     "metadata": {},
     "output_type": "execute_result"
    }
   ],
   "source": [
    "hotel_new_df"
   ]
  },
  {
   "cell_type": "code",
   "execution_count": 141,
   "id": "b40e26b2",
   "metadata": {},
   "outputs": [],
   "source": [
    "#columnar expression\n",
    "\n",
    "hotel1_df = hotels_df.selectExpr(\"count(*) as row_count\",\"count(Distinct(guest_name)) as Distinct_guests\",\"avg(total_rent) as Average_Rent\")"
   ]
  },
  {
   "cell_type": "code",
   "execution_count": 142,
   "id": "c0be627a",
   "metadata": {},
   "outputs": [
    {
     "data": {
      "text/html": [
       "<table border='1'>\n",
       "<tr><th>row_count</th><th>Distinct_guests</th><th>Average_Rent</th></tr>\n",
       "<tr><td>107</td><td>23</td><td>546.2616822429907</td></tr>\n",
       "</table>\n"
      ],
      "text/plain": [
       "+---------+---------------+-----------------+\n",
       "|row_count|Distinct_guests|     Average_Rent|\n",
       "+---------+---------------+-----------------+\n",
       "|      107|             23|546.2616822429907|\n",
       "+---------+---------------+-----------------+"
      ]
     },
     "execution_count": 142,
     "metadata": {},
     "output_type": "execute_result"
    }
   ],
   "source": [
    "hotel1_df"
   ]
  },
  {
   "cell_type": "code",
   "execution_count": 143,
   "id": "62b77d34",
   "metadata": {},
   "outputs": [],
   "source": [
    "hotels_df.createOrReplaceTempView(\"Hotels\")"
   ]
  },
  {
   "cell_type": "code",
   "execution_count": 144,
   "id": "1af37f69",
   "metadata": {},
   "outputs": [
    {
     "name": "stdout",
     "output_type": "stream",
     "text": [
      "+------------+---------+-------------+\n",
      "|type_of_room|AVG_Price|MAximum_Price|\n",
      "+------------+---------+-------------+\n",
      "|   Executive|    750.0|        750.0|\n",
      "|      Deluxe|   575.58|        600.0|\n",
      "|    Standard|    425.0|        450.0|\n",
      "+------------+---------+-------------+\n",
      "\n"
     ]
    }
   ],
   "source": [
    "spark.sql(\"\"\" select type_of_room, ROUND(AVG(total_rent),2) as AVG_Price, MAX(total_rent) As MAximum_Price from hotels group by type_of_room \"\"\").show()"
   ]
  },
  {
   "cell_type": "code",
   "execution_count": 145,
   "id": "78bcdbfb",
   "metadata": {},
   "outputs": [
    {
     "name": "stdout",
     "output_type": "stream",
     "text": [
      "+----------+------------------+------------+\n",
      "|booking_id|reservation_counts|Average_Stay|\n",
      "+----------+------------------+------------+\n",
      "|         1|                 1|         4.0|\n",
      "|         2|                 1|         4.0|\n",
      "|         3|                 1|         5.0|\n",
      "|         4|                 1|         3.0|\n",
      "|         5|                 1|         3.0|\n",
      "|         6|                 1|         3.0|\n",
      "|         7|                 1|         4.0|\n",
      "|         8|                 1|         3.0|\n",
      "|         9|                 1|         5.0|\n",
      "|        10|                 1|         3.0|\n",
      "|        11|                 1|         4.0|\n",
      "|        12|                 1|         5.0|\n",
      "|        13|                 1|         5.0|\n",
      "|        14|                 1|         6.0|\n",
      "|        15|                 1|         5.0|\n",
      "|        16|                 1|         5.0|\n",
      "|        17|                 1|         6.0|\n",
      "|        18|                 1|         5.0|\n",
      "|        19|                 1|         6.0|\n",
      "|        20|                 1|         4.0|\n",
      "+----------+------------------+------------+\n",
      "only showing top 20 rows\n",
      "\n"
     ]
    }
   ],
   "source": [
    "spark.sql(\"\"\" Select booking_id, Count(*) as reservation_counts, AVG(DATEDIFF(checkout_date,checkin_date)) As Average_Stay from Hotels group by booking_id order by booking_id\"\"\").show()"
   ]
  },
  {
   "cell_type": "code",
   "execution_count": 146,
   "id": "923dd70a",
   "metadata": {},
   "outputs": [
    {
     "name": "stdout",
     "output_type": "stream",
     "text": [
      "+----------+-----------------+-------------+------------+----------+\n",
      "|booking_id|       guest_name|Booking_month|type_of_room|total_Rent|\n",
      "+----------+-----------------+-------------+------------+----------+\n",
      "|         1|         John Doe|           05|    Standard|     400.0|\n",
      "|         2|       Jane Smith|           05|      Deluxe|     600.0|\n",
      "|         3|     Mark Johnson|           05|    Standard|     450.0|\n",
      "|         4|     Sarah Wilson|           05|   Executive|     750.0|\n",
      "|         5|      Emily Brown|           05|      Deluxe|     550.0|\n",
      "|         6|    Michael Davis|           05|    Standard|     400.0|\n",
      "|         7|Samantha Thompson|           05|      Deluxe|     600.0|\n",
      "|         8|      William Lee|           05|    Standard|     450.0|\n",
      "|         9|    Amanda Harris|           05|   Executive|     750.0|\n",
      "|        10|  David Rodriguez|           05|      Deluxe|     550.0|\n",
      "|        11|     Linda Wilson|           05|    Standard|     400.0|\n",
      "|        12|   Robert Johnson|           05|      Deluxe|     600.0|\n",
      "|        13|  Sophia Anderson|           05|    Standard|     450.0|\n",
      "|        14|      James Smith|           05|   Executive|     750.0|\n",
      "|        15|     Olivia Brown|           05|      Deluxe|     550.0|\n",
      "|        16|    Michael Davis|           05|    Standard|     400.0|\n",
      "|        17|   Emily Thompson|           05|      Deluxe|     600.0|\n",
      "|        18|      William Lee|           05|    Standard|     450.0|\n",
      "|        19|       Ava Harris|           05|   Executive|     750.0|\n",
      "|        20| Daniel Rodriguez|           05|      Deluxe|     550.0|\n",
      "+----------+-----------------+-------------+------------+----------+\n",
      "only showing top 20 rows\n",
      "\n"
     ]
    }
   ],
   "source": [
    "spark.sql(\"\"\" Select booking_id, guest_name, date_format(checkin_date, 'MM') as Booking_month, type_of_room, total_Rent from Hotels\"\"\").show()"
   ]
  },
  {
   "cell_type": "code",
   "execution_count": 176,
   "id": "9dc5ece1",
   "metadata": {},
   "outputs": [],
   "source": [
    "hotelss_df = spark.sql(\"\"\" Select type_of_room as room, date_format(checkin_date, 'MM') as Booking_Month, count(Booking_id) as total_bookings, sum(total_rent) as Total_Price from Hotels Group by room,Booking_Month Order by room, Booking_Month\"\"\")"
   ]
  },
  {
   "cell_type": "code",
   "execution_count": 177,
   "id": "94e9365c",
   "metadata": {},
   "outputs": [
    {
     "name": "stdout",
     "output_type": "stream",
     "text": [
      "+---------+-------------+--------------+-----------+\n",
      "|     room|Booking_Month|total_bookings|Total_Price|\n",
      "+---------+-------------+--------------+-----------+\n",
      "|   Deluxe|           05|             9|     5200.0|\n",
      "|   Deluxe|           06|            10|     5750.0|\n",
      "|   Deluxe|           07|            16|     9200.0|\n",
      "|   Deluxe|           08|             8|     4600.0|\n",
      "|Executive|           05|             5|     3750.0|\n",
      "|Executive|           06|             5|     3750.0|\n",
      "|Executive|           07|             6|     4500.0|\n",
      "|Executive|           08|             4|     3000.0|\n",
      "| Standard|           05|            10|     4250.0|\n",
      "| Standard|           06|            10|     4250.0|\n",
      "| Standard|           07|            16|     6800.0|\n",
      "| Standard|           08|             8|     3400.0|\n",
      "+---------+-------------+--------------+-----------+\n",
      "\n"
     ]
    }
   ],
   "source": [
    "hotelss_df.show()"
   ]
  },
  {
   "cell_type": "code",
   "execution_count": 149,
   "id": "ebceebcd",
   "metadata": {},
   "outputs": [],
   "source": [
    "# 3 ways:\n",
    "#programatic, columnar, sql"
   ]
  },
  {
   "cell_type": "code",
   "execution_count": 150,
   "id": "31e52696",
   "metadata": {},
   "outputs": [],
   "source": [
    "from pyspark.sql import *"
   ]
  },
  {
   "cell_type": "code",
   "execution_count": 151,
   "id": "bd541364",
   "metadata": {},
   "outputs": [],
   "source": [
    "My_window = Window.partitionBy(\"room\") \\\n",
    ".rowsBetween(Window.unboundedPreceding, Window.currentRow)"
   ]
  },
  {
   "cell_type": "code",
   "execution_count": 152,
   "id": "7fcc2c24",
   "metadata": {},
   "outputs": [],
   "source": [
    "neww_dataframe = hotelss_df.withColumn(\"running_total_booking\", sum(\"count(Booking_id)\").over(My_window)).withColumn(\"running_total_price\", sum(\"Total_Price\").over(My_window))"
   ]
  },
  {
   "cell_type": "code",
   "execution_count": 153,
   "id": "e21eacb2",
   "metadata": {},
   "outputs": [
    {
     "name": "stdout",
     "output_type": "stream",
     "text": [
      "+---------+-------------+-----------------+-----------+---------------------+-------------------+\n",
      "|     room|Booking_Month|count(Booking_id)|Total_Price|running_total_booking|running_total_price|\n",
      "+---------+-------------+-----------------+-----------+---------------------+-------------------+\n",
      "|Executive|           05|                5|     3750.0|                    5|             3750.0|\n",
      "|Executive|           06|                5|     3750.0|                   10|             7500.0|\n",
      "|Executive|           07|                6|     4500.0|                   16|            12000.0|\n",
      "|Executive|           08|                4|     3000.0|                   20|            15000.0|\n",
      "|   Deluxe|           05|                9|     5200.0|                    9|             5200.0|\n",
      "|   Deluxe|           06|               10|     5750.0|                   19|            10950.0|\n",
      "|   Deluxe|           07|               16|     9200.0|                   35|            20150.0|\n",
      "|   Deluxe|           08|                8|     4600.0|                   43|            24750.0|\n",
      "| Standard|           05|               10|     4250.0|                   10|             4250.0|\n",
      "| Standard|           06|               10|     4250.0|                   20|             8500.0|\n",
      "| Standard|           07|               16|     6800.0|                   36|            15300.0|\n",
      "| Standard|           08|                8|     3400.0|                   44|            18700.0|\n",
      "+---------+-------------+-----------------+-----------+---------------------+-------------------+\n",
      "\n"
     ]
    }
   ],
   "source": [
    "neww_dataframe.show()"
   ]
  },
  {
   "cell_type": "code",
   "execution_count": 154,
   "id": "3fe50504",
   "metadata": {},
   "outputs": [],
   "source": [
    "from pyspark.sql.functions import *"
   ]
  },
  {
   "cell_type": "code",
   "execution_count": 155,
   "id": "3f2aa703",
   "metadata": {},
   "outputs": [],
   "source": [
    "my_win = Window.partitionBy(\"room\") \\\n",
    ".orderBy(desc(\"Total_Price\")) "
   ]
  },
  {
   "cell_type": "code",
   "execution_count": 158,
   "id": "5a3c9702",
   "metadata": {},
   "outputs": [],
   "source": [
    "new4_df = neww_dataframe.withColumn(\"rank\",rank().over(my_win)).withColumn(\"Dense_rank\",dense_rank().over(my_win)).withColumn(\"Row_Number\",row_number().over(my_win))"
   ]
  },
  {
   "cell_type": "code",
   "execution_count": 159,
   "id": "946e4858",
   "metadata": {},
   "outputs": [
    {
     "data": {
      "text/html": [
       "<table border='1'>\n",
       "<tr><th>room</th><th>Booking_Month</th><th>count(Booking_id)</th><th>Total_Price</th><th>running_total_booking</th><th>running_total_price</th><th>rank</th><th>Dense_rank</th><th>Row_Number</th></tr>\n",
       "<tr><td>Executive</td><td>07</td><td>6</td><td>4500.0</td><td>16</td><td>12000.0</td><td>1</td><td>1</td><td>1</td></tr>\n",
       "<tr><td>Executive</td><td>05</td><td>5</td><td>3750.0</td><td>5</td><td>3750.0</td><td>2</td><td>2</td><td>2</td></tr>\n",
       "<tr><td>Executive</td><td>06</td><td>5</td><td>3750.0</td><td>10</td><td>7500.0</td><td>2</td><td>2</td><td>3</td></tr>\n",
       "<tr><td>Executive</td><td>08</td><td>4</td><td>3000.0</td><td>20</td><td>15000.0</td><td>4</td><td>3</td><td>4</td></tr>\n",
       "<tr><td>Deluxe</td><td>07</td><td>16</td><td>9200.0</td><td>35</td><td>20150.0</td><td>1</td><td>1</td><td>1</td></tr>\n",
       "<tr><td>Deluxe</td><td>06</td><td>10</td><td>5750.0</td><td>19</td><td>10950.0</td><td>2</td><td>2</td><td>2</td></tr>\n",
       "<tr><td>Deluxe</td><td>05</td><td>9</td><td>5200.0</td><td>9</td><td>5200.0</td><td>3</td><td>3</td><td>3</td></tr>\n",
       "<tr><td>Deluxe</td><td>08</td><td>8</td><td>4600.0</td><td>43</td><td>24750.0</td><td>4</td><td>4</td><td>4</td></tr>\n",
       "<tr><td>Standard</td><td>07</td><td>16</td><td>6800.0</td><td>36</td><td>15300.0</td><td>1</td><td>1</td><td>1</td></tr>\n",
       "<tr><td>Standard</td><td>05</td><td>10</td><td>4250.0</td><td>10</td><td>4250.0</td><td>2</td><td>2</td><td>2</td></tr>\n",
       "<tr><td>Standard</td><td>06</td><td>10</td><td>4250.0</td><td>20</td><td>8500.0</td><td>2</td><td>2</td><td>3</td></tr>\n",
       "<tr><td>Standard</td><td>08</td><td>8</td><td>3400.0</td><td>44</td><td>18700.0</td><td>4</td><td>3</td><td>4</td></tr>\n",
       "</table>\n"
      ],
      "text/plain": [
       "+---------+-------------+-----------------+-----------+---------------------+-------------------+----+----------+----------+\n",
       "|     room|Booking_Month|count(Booking_id)|Total_Price|running_total_booking|running_total_price|rank|Dense_rank|Row_Number|\n",
       "+---------+-------------+-----------------+-----------+---------------------+-------------------+----+----------+----------+\n",
       "|Executive|           07|                6|     4500.0|                   16|            12000.0|   1|         1|         1|\n",
       "|Executive|           05|                5|     3750.0|                    5|             3750.0|   2|         2|         2|\n",
       "|Executive|           06|                5|     3750.0|                   10|             7500.0|   2|         2|         3|\n",
       "|Executive|           08|                4|     3000.0|                   20|            15000.0|   4|         3|         4|\n",
       "|   Deluxe|           07|               16|     9200.0|                   35|            20150.0|   1|         1|         1|\n",
       "|   Deluxe|           06|               10|     5750.0|                   19|            10950.0|   2|         2|         2|\n",
       "|   Deluxe|           05|                9|     5200.0|                    9|             5200.0|   3|         3|         3|\n",
       "|   Deluxe|           08|                8|     4600.0|                   43|            24750.0|   4|         4|         4|\n",
       "| Standard|           07|               16|     6800.0|                   36|            15300.0|   1|         1|         1|\n",
       "| Standard|           05|               10|     4250.0|                   10|             4250.0|   2|         2|         2|\n",
       "| Standard|           06|               10|     4250.0|                   20|             8500.0|   2|         2|         3|\n",
       "| Standard|           08|                8|     3400.0|                   44|            18700.0|   4|         3|         4|\n",
       "+---------+-------------+-----------------+-----------+---------------------+-------------------+----+----------+----------+"
      ]
     },
     "execution_count": 159,
     "metadata": {},
     "output_type": "execute_result"
    }
   ],
   "source": [
    "new4_df\n"
   ]
  },
  {
   "cell_type": "code",
   "execution_count": 162,
   "id": "e2095e79",
   "metadata": {},
   "outputs": [],
   "source": [
    "new4_df.createOrReplaceTempView(\"new_hotels\")"
   ]
  },
  {
   "cell_type": "code",
   "execution_count": 167,
   "id": "61293d67",
   "metadata": {},
   "outputs": [],
   "source": [
    "hotel5_df = spark.sql(\"\"\" Select room, Booking_Month, Sum(Total_Price) as Total_amount from new_hotels group By 1,2\"\"\")"
   ]
  },
  {
   "cell_type": "code",
   "execution_count": 168,
   "id": "4d97ce5d",
   "metadata": {},
   "outputs": [
    {
     "name": "stdout",
     "output_type": "stream",
     "text": [
      "+---------+-------------+------------+\n",
      "|     room|Booking_Month|Total_amount|\n",
      "+---------+-------------+------------+\n",
      "|   Deluxe|           05|      5200.0|\n",
      "|   Deluxe|           06|      5750.0|\n",
      "|   Deluxe|           07|      9200.0|\n",
      "|   Deluxe|           08|      4600.0|\n",
      "|Executive|           05|      3750.0|\n",
      "|Executive|           06|      3750.0|\n",
      "|Executive|           07|      4500.0|\n",
      "|Executive|           08|      3000.0|\n",
      "| Standard|           05|      4250.0|\n",
      "| Standard|           06|      4250.0|\n",
      "| Standard|           07|      6800.0|\n",
      "| Standard|           08|      3400.0|\n",
      "+---------+-------------+------------+\n",
      "\n"
     ]
    }
   ],
   "source": [
    "hotel5_df.show()"
   ]
  },
  {
   "cell_type": "code",
   "execution_count": 169,
   "id": "f0d8a05f",
   "metadata": {},
   "outputs": [],
   "source": [
    "hotel_window = Window.partitionBy(\"room\") \\\n",
    ".orderBy(\"Booking_Month\") "
   ]
  },
  {
   "cell_type": "code",
   "execution_count": 170,
   "id": "80c94d7d",
   "metadata": {},
   "outputs": [],
   "source": [
    "hotel6 = hotel5_df.withColumn(\"previous_month\", lag(\"Total_amount\").over(hotel_window))"
   ]
  },
  {
   "cell_type": "code",
   "execution_count": 171,
   "id": "0a90a007",
   "metadata": {},
   "outputs": [
    {
     "name": "stdout",
     "output_type": "stream",
     "text": [
      "+---------+-------------+------------+--------------+\n",
      "|     room|Booking_Month|Total_amount|previous_month|\n",
      "+---------+-------------+------------+--------------+\n",
      "|Executive|           05|      3750.0|          null|\n",
      "|Executive|           06|      3750.0|        3750.0|\n",
      "|Executive|           07|      4500.0|        3750.0|\n",
      "|Executive|           08|      3000.0|        4500.0|\n",
      "|   Deluxe|           05|      5200.0|          null|\n",
      "|   Deluxe|           06|      5750.0|        5200.0|\n",
      "|   Deluxe|           07|      9200.0|        5750.0|\n",
      "|   Deluxe|           08|      4600.0|        9200.0|\n",
      "| Standard|           05|      4250.0|          null|\n",
      "| Standard|           06|      4250.0|        4250.0|\n",
      "| Standard|           07|      6800.0|        4250.0|\n",
      "| Standard|           08|      3400.0|        6800.0|\n",
      "+---------+-------------+------------+--------------+\n",
      "\n"
     ]
    }
   ],
   "source": [
    "hotel6.show()"
   ]
  },
  {
   "cell_type": "code",
   "execution_count": 175,
   "id": "bf6056bd",
   "metadata": {},
   "outputs": [
    {
     "name": "stdout",
     "output_type": "stream",
     "text": [
      "+---------+------+------+------+------+\n",
      "|room     |05    |06    |07    |08    |\n",
      "+---------+------+------+------+------+\n",
      "|Executive|3750.0|3750.0|4500.0|3000.0|\n",
      "|Deluxe   |5200.0|5750.0|9200.0|4600.0|\n",
      "|Standard |4250.0|4250.0|6800.0|3400.0|\n",
      "+---------+------+------+------+------+\n",
      "\n"
     ]
    }
   ],
   "source": [
    "checkin_month = [\"05\",\"06\",\"07\",\"08\"]\n",
    "summary = hotelss_df.groupBy(\"room\").pivot(\"Booking_month\",checkin_month).agg(expr(\"sum(Total_Price) as Something\"))\n",
    "summary.show(truncate = False)"
   ]
  },
  {
   "cell_type": "code",
   "execution_count": 178,
   "id": "ea683e69",
   "metadata": {},
   "outputs": [
    {
     "name": "stdout",
     "output_type": "stream",
     "text": [
      "+---------+---+---+---+---+\n",
      "|room     |05 |06 |07 |08 |\n",
      "+---------+---+---+---+---+\n",
      "|Executive|5  |5  |6  |4  |\n",
      "|Deluxe   |9  |10 |16 |8  |\n",
      "|Standard |10 |10 |16 |8  |\n",
      "+---------+---+---+---+---+\n",
      "\n"
     ]
    }
   ],
   "source": [
    "checkin = [\"05\",\"06\",\"07\",\"08\"]\n",
    "summary1 = hotelss_df.groupBy(\"room\").pivot(\"Booking_month\",checkin_month).agg(expr(\"sum(total_bookings) as Something\"))\n",
    "summary1.show(truncate = False)"
   ]
  },
  {
   "cell_type": "code",
   "execution_count": null,
   "id": "b279a3f8",
   "metadata": {},
   "outputs": [],
   "source": []
  }
 ],
 "metadata": {
  "kernelspec": {
   "display_name": "Pyspark 2",
   "language": "python",
   "name": "pyspark2"
  },
  "language_info": {
   "codemirror_mode": {
    "name": "ipython",
    "version": 3
   },
   "file_extension": ".py",
   "mimetype": "text/x-python",
   "name": "python",
   "nbconvert_exporter": "python",
   "pygments_lexer": "ipython3",
   "version": "3.6.12"
  }
 },
 "nbformat": 4,
 "nbformat_minor": 5
}
